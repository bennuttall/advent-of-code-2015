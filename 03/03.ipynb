{
 "cells": [
  {
   "cell_type": "code",
   "execution_count": 9,
   "metadata": {},
   "outputs": [
    {
     "data": {
      "text/plain": [
       "8192"
      ]
     },
     "execution_count": 9,
     "metadata": {},
     "output_type": "execute_result"
    }
   ],
   "source": [
    "with open('input') as f:\n",
    "    instructions = f.read().strip()\n",
    "len(instructions)"
   ]
  },
  {
   "cell_type": "code",
   "execution_count": 19,
   "metadata": {},
   "outputs": [],
   "source": [
    "def visit_houses(instructions):\n",
    "    pos = (0, 0)\n",
    "    visited = {pos}\n",
    "    deltas = {\n",
    "        '^': (0, 1),\n",
    "        '>': (1, 0),\n",
    "        'v': (0, -1),\n",
    "        '<': (-1, 0),\n",
    "    }\n",
    "    for i in instructions:\n",
    "        delta = deltas[i]\n",
    "        pos = (pos[0] + delta[0], pos[1] + delta[1])\n",
    "        visited.add(pos)\n",
    "    return visited"
   ]
  },
  {
   "cell_type": "code",
   "execution_count": 20,
   "metadata": {},
   "outputs": [
    {
     "name": "stdout",
     "output_type": "stream",
     "text": [
      "Part 1:\n",
      "2565\n"
     ]
    }
   ],
   "source": [
    "print(\"Part 1:\")\n",
    "print(len(visit_houses(instructions)))"
   ]
  },
  {
   "cell_type": "code",
   "execution_count": 22,
   "metadata": {},
   "outputs": [],
   "source": [
    "evens = [i for n, i in enumerate(instructions) if n % 2 == 0]\n",
    "odds = [i for n, i in enumerate(instructions) if n % 2 == 1]\n",
    "santa_visited = visit_houses(odds)\n",
    "robo_visited = visit_houses(evens)"
   ]
  },
  {
   "cell_type": "code",
   "execution_count": 23,
   "metadata": {},
   "outputs": [
    {
     "name": "stdout",
     "output_type": "stream",
     "text": [
      "Part 2:\n",
      "2639\n"
     ]
    }
   ],
   "source": [
    "print(\"Part 2:\")\n",
    "print(len(santa_visited | robo_visited))"
   ]
  },
  {
   "cell_type": "code",
   "execution_count": null,
   "metadata": {},
   "outputs": [],
   "source": []
  }
 ],
 "metadata": {
  "kernelspec": {
   "display_name": "Python 3",
   "language": "python",
   "name": "python3"
  },
  "language_info": {
   "codemirror_mode": {
    "name": "ipython",
    "version": 3
   },
   "file_extension": ".py",
   "mimetype": "text/x-python",
   "name": "python",
   "nbconvert_exporter": "python",
   "pygments_lexer": "ipython3",
   "version": "3.8.5"
  }
 },
 "nbformat": 4,
 "nbformat_minor": 4
}
