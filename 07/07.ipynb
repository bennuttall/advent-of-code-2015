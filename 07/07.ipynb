{
 "cells": [
  {
   "cell_type": "code",
   "execution_count": 1,
   "id": "5a1bf46c",
   "metadata": {},
   "outputs": [],
   "source": [
    "def process_instruction(line):\n",
    "    parts = line.split(' ')\n",
    "    output = parts[-1]\n",
    "    \n",
    "    if 'AND' in line:\n",
    "        operator = 'AND'\n",
    "        inputs = [parts[0], parts[2]]\n",
    "    elif 'NOT' in line:\n",
    "        operator = 'NOT'\n",
    "        inputs = [parts[1],]\n",
    "    elif 'OR' in line:\n",
    "        operator = 'OR'\n",
    "        inputs = [parts[0], parts[2]]\n",
    "    elif 'LSHIFT' in line:\n",
    "        operator = 'LSHIFT'\n",
    "        inputs = [parts[0], parts[2]]\n",
    "    elif 'RSHIFT' in line:\n",
    "        operator = 'RSHIFT'\n",
    "        inputs = [parts[0], parts[2]]\n",
    "    else:\n",
    "        try:\n",
    "            return (output, int(parts[0]))\n",
    "        except ValueError:\n",
    "            return (output, parts[0])\n",
    "        return\n",
    "    \n",
    "    for i, n in enumerate(inputs):\n",
    "        try:\n",
    "            inputs[i] = int(n)\n",
    "        except ValueError:\n",
    "            pass\n",
    "    \n",
    "    return (output, (operator, tuple(inputs)))"
   ]
  },
  {
   "cell_type": "code",
   "execution_count": 2,
   "id": "7ca9b390",
   "metadata": {},
   "outputs": [],
   "source": [
    "def get_instructions():\n",
    "    instructions = {}\n",
    "    with open('input') as f:\n",
    "        for line in f:\n",
    "            output, instruction = process_instruction(line.strip())\n",
    "            instructions[output] = instruction\n",
    "    return instructions"
   ]
  },
  {
   "cell_type": "code",
   "execution_count": 3,
   "id": "f1c2fbba",
   "metadata": {},
   "outputs": [],
   "source": [
    "def compute_instruction(operator, inputs):\n",
    "    new_inputs = []\n",
    "    for i in inputs:\n",
    "        if type(i) == int:\n",
    "            new_inputs.append(i)\n",
    "        elif type(instructions[i]) == int:\n",
    "            new_inputs.append(instructions[i])\n",
    "        else:\n",
    "            return (operator, inputs)\n",
    "    \n",
    "    if operator == 'AND':\n",
    "        return new_inputs[0] & new_inputs[1]\n",
    "    if operator == 'OR':\n",
    "        return new_inputs[0] | new_inputs[1]\n",
    "    if operator == 'NOT':\n",
    "        return ~ new_inputs[0]\n",
    "    if operator == 'LSHIFT':\n",
    "        return new_inputs[0] << new_inputs[1]\n",
    "    if operator == 'RSHIFT':\n",
    "        return new_inputs[0] >> new_inputs[1]\n",
    "    else:\n",
    "        print(\"here\", operator, inputs)\n",
    "        raise"
   ]
  },
  {
   "cell_type": "code",
   "execution_count": 4,
   "id": "2b3a35ef",
   "metadata": {
    "scrolled": true
   },
   "outputs": [],
   "source": [
    "def compute_a(instructions):\n",
    "    vars = {}\n",
    "    c = 0\n",
    "    while 'a' not in vars:\n",
    "        c += 1\n",
    "        for var, instruction in instructions.items():\n",
    "            if var in vars:\n",
    "                continue\n",
    "            if type(instruction) == str:\n",
    "                instruction = instructions[instruction]\n",
    "            if type(instruction) == int:\n",
    "                vars[var] = instruction\n",
    "            else:\n",
    "                operator, inputs = instruction\n",
    "                instructions[var] = compute_instruction(operator, inputs)\n",
    "    return vars['a']"
   ]
  },
  {
   "cell_type": "code",
   "execution_count": 5,
   "id": "82472ce9",
   "metadata": {},
   "outputs": [],
   "source": [
    "instructions = get_instructions()"
   ]
  },
  {
   "cell_type": "code",
   "execution_count": 6,
   "id": "b40b3986",
   "metadata": {},
   "outputs": [
    {
     "name": "stdout",
     "output_type": "stream",
     "text": [
      "Part 1:\n",
      "16076\n"
     ]
    }
   ],
   "source": [
    "print(\"Part 1:\")\n",
    "a = compute_a(instructions)\n",
    "print(a)"
   ]
  },
  {
   "cell_type": "code",
   "execution_count": 7,
   "id": "9cccc77f",
   "metadata": {},
   "outputs": [],
   "source": [
    "instructions = get_instructions()\n",
    "instructions['b'] = a\n",
    "a = compute_a(instructions)"
   ]
  },
  {
   "cell_type": "code",
   "execution_count": 8,
   "id": "8c00ee8f",
   "metadata": {},
   "outputs": [
    {
     "name": "stdout",
     "output_type": "stream",
     "text": [
      "Part 2:\n",
      "2797\n"
     ]
    }
   ],
   "source": [
    "print(\"Part 2:\")\n",
    "print(a)"
   ]
  }
 ],
 "metadata": {
  "kernelspec": {
   "display_name": "Python 3",
   "language": "python",
   "name": "python3"
  },
  "language_info": {
   "codemirror_mode": {
    "name": "ipython",
    "version": 3
   },
   "file_extension": ".py",
   "mimetype": "text/x-python",
   "name": "python",
   "nbconvert_exporter": "python",
   "pygments_lexer": "ipython3",
   "version": "3.10.0"
  }
 },
 "nbformat": 4,
 "nbformat_minor": 5
}
