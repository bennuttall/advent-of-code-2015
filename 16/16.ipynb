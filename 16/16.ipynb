{
 "cells": [
  {
   "cell_type": "code",
   "execution_count": 1,
   "id": "7ac05f8e",
   "metadata": {},
   "outputs": [
    {
     "data": {
      "text/plain": [
       "{'goldfish': 5, 'children': 8, 'perfumes': 3}"
      ]
     },
     "execution_count": 1,
     "metadata": {},
     "output_type": "execute_result"
    }
   ],
   "source": [
    "sues = {}\n",
    "\n",
    "with open('input') as f:\n",
    "    for n, line in enumerate(f, start=1):\n",
    "        data = line[len(str(n)) + 6:].strip()\n",
    "        sues[n] = {\n",
    "            prop.split(': ')[0]: int(prop.split(': ')[1])\n",
    "            for prop in data.split(', ')\n",
    "        }\n",
    "sues[4]"
   ]
  },
  {
   "cell_type": "code",
   "execution_count": 2,
   "id": "33b76a7d",
   "metadata": {},
   "outputs": [],
   "source": [
    "ticker_tape = {\n",
    "    'children': 3,\n",
    "    'cats': 7,\n",
    "    'samoyeds': 2,\n",
    "    'pomeranians': 3,\n",
    "    'akitas': 0,\n",
    "    'vizslas': 0,\n",
    "    'goldfish': 5,\n",
    "    'trees': 3,\n",
    "    'cars': 2,\n",
    "    'perfumes': 1,\n",
    "}\n",
    "\n",
    "def sue_check(sue):\n",
    "    for k, v in sue.items():\n",
    "        if ticker_tape[k] != v:\n",
    "            return False\n",
    "    return True"
   ]
  },
  {
   "cell_type": "code",
   "execution_count": 3,
   "id": "632df3d1",
   "metadata": {},
   "outputs": [],
   "source": [
    "for sue_number, sue in sues.items():\n",
    "    if sue_check(sue):\n",
    "        break"
   ]
  },
  {
   "cell_type": "code",
   "execution_count": 4,
   "id": "a6c24fe3",
   "metadata": {},
   "outputs": [
    {
     "name": "stdout",
     "output_type": "stream",
     "text": [
      "Part 1:\n",
      "213\n"
     ]
    }
   ],
   "source": [
    "print(\"Part 1:\")\n",
    "print(sue_number)"
   ]
  },
  {
   "cell_type": "code",
   "execution_count": 5,
   "id": "1747faf0",
   "metadata": {},
   "outputs": [],
   "source": [
    "for sue_number, sue in sues.items():\n",
    "    score = 0\n",
    "    for k, v in sue.items():\n",
    "        score += {\n",
    "            'children': v == 3,\n",
    "            'cats': v > 7,\n",
    "            'samoyeds': v == 2,\n",
    "            'pomeranians': v < 3,\n",
    "            'akitas': v == 0,\n",
    "            'vizslas': v == 0,\n",
    "            'goldfish': v < 5,\n",
    "            'trees': v > 3,\n",
    "            'cars': v == 2,\n",
    "            'perfumes': v == 1,\n",
    "        }[k]\n",
    "    if score == 3:\n",
    "        break"
   ]
  },
  {
   "cell_type": "code",
   "execution_count": 6,
   "id": "93d5e7cb",
   "metadata": {},
   "outputs": [
    {
     "name": "stdout",
     "output_type": "stream",
     "text": [
      "Part 2:\n",
      "323\n"
     ]
    }
   ],
   "source": [
    "print(\"Part 2:\")\n",
    "print(sue_number)"
   ]
  }
 ],
 "metadata": {
  "kernelspec": {
   "display_name": "Python 3",
   "language": "python",
   "name": "python3"
  },
  "language_info": {
   "codemirror_mode": {
    "name": "ipython",
    "version": 3
   },
   "file_extension": ".py",
   "mimetype": "text/x-python",
   "name": "python",
   "nbconvert_exporter": "python",
   "pygments_lexer": "ipython3",
   "version": "3.10.0"
  }
 },
 "nbformat": 4,
 "nbformat_minor": 5
}
