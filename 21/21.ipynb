{
 "cells": [
  {
   "cell_type": "code",
   "execution_count": 1,
   "id": "9deb72c9",
   "metadata": {},
   "outputs": [],
   "source": [
    "with open('input') as f:\n",
    "    parts = f.read().strip().split()\n",
    "    boss_stats = {\n",
    "        'hit_points': int(parts[2]),\n",
    "        'damage': int(parts[4]),\n",
    "        'armor': int(parts[6]),\n",
    "    }"
   ]
  },
  {
   "cell_type": "code",
   "execution_count": 2,
   "id": "16dd9589",
   "metadata": {},
   "outputs": [],
   "source": [
    "weapons = {\n",
    "    'Dagger': (8, 4),\n",
    "    'Shortsword': (10, 5),\n",
    "    'Warhammer': (25, 6),\n",
    "    'Longsword': (40, 7),\n",
    "    'Greataxe': (74, 8),\n",
    "}\n",
    "\n",
    "armor = {\n",
    "    'Leather': (13, 1),\n",
    "    'Chainmail': (31, 2),\n",
    "    'Splintmail': (53, 3),\n",
    "    'Bandedmail': (75, 4),\n",
    "    'Platemail': (102, 5),\n",
    "}\n",
    "\n",
    "rings = {\n",
    "    'Damage +1': (25, 1, 0),\n",
    "    'Damage +2': (50, 2, 0),\n",
    "    'Damage +3': (100, 3, 0),\n",
    "    'Defense +1': (20, 0, 1),\n",
    "    'Defense +2': (40, 0, 2),\n",
    "    'Defense +3': (80, 0, 3),\n",
    "}"
   ]
  },
  {
   "cell_type": "code",
   "execution_count": 3,
   "id": "cb99132c",
   "metadata": {},
   "outputs": [],
   "source": [
    "class Player:\n",
    "    def __init__(self, hit_points, damage, armor):\n",
    "        self.hit_points = hit_points\n",
    "        self.damage = damage\n",
    "        self.armor = armor\n",
    "        \n",
    "    def attack(self, other):\n",
    "        damage = max(self.damage - other.armor, 1)\n",
    "        other.hit_points -= damage"
   ]
  },
  {
   "cell_type": "code",
   "execution_count": 4,
   "id": "a4808256",
   "metadata": {},
   "outputs": [],
   "source": [
    "from collections import deque\n",
    "from itertools import islice\n",
    "\n",
    "def sliding_window(iterable, n):\n",
    "    # sliding_window('ABCDEFG', 4) -> ABCD BCDE CDEF DEFG\n",
    "    it = iter(iterable)\n",
    "    window = deque(islice(it, n), maxlen=n)\n",
    "    if len(window) == n:\n",
    "        yield tuple(window)\n",
    "    for x in it:\n",
    "        window.append(x)\n",
    "        yield tuple(window)"
   ]
  },
  {
   "cell_type": "code",
   "execution_count": 5,
   "id": "fb13b829",
   "metadata": {},
   "outputs": [],
   "source": [
    "from itertools import cycle\n",
    "\n",
    "def play_game(me_stats, boss_stats):\n",
    "    me = Player(**me_stats)\n",
    "    boss = Player(**boss_stats)\n",
    "    players = cycle([me, boss])\n",
    "    for attacker, defender in sliding_window(players, 2):\n",
    "        attacker.attack(defender)\n",
    "        if defender.hit_points < 1:\n",
    "            return attacker == me"
   ]
  },
  {
   "cell_type": "code",
   "execution_count": 6,
   "id": "3a935551",
   "metadata": {},
   "outputs": [],
   "source": [
    "def get_weapon_combos():\n",
    "    yield from weapons"
   ]
  },
  {
   "cell_type": "code",
   "execution_count": 7,
   "id": "a20c0799",
   "metadata": {},
   "outputs": [],
   "source": [
    "def get_armour_combos():\n",
    "    yield None\n",
    "    yield from armor"
   ]
  },
  {
   "cell_type": "code",
   "execution_count": 8,
   "id": "d9f26794",
   "metadata": {},
   "outputs": [],
   "source": [
    "from itertools import product, combinations\n",
    "\n",
    "def get_ring_combos():\n",
    "    yield (None, None)\n",
    "    yield from ((ring, None) for ring in rings)\n",
    "    yield from combinations(rings, 2)"
   ]
  },
  {
   "cell_type": "code",
   "execution_count": 9,
   "id": "66eb5b66",
   "metadata": {},
   "outputs": [],
   "source": [
    "def get_combos():\n",
    "    weapon_combos = get_weapon_combos()\n",
    "    armor_combos = get_armour_combos()\n",
    "    ring_combos = get_ring_combos()\n",
    "    yield from product(weapon_combos, armor_combos, ring_combos)"
   ]
  },
  {
   "cell_type": "code",
   "execution_count": 10,
   "id": "92ea42bc",
   "metadata": {},
   "outputs": [],
   "source": [
    "wins = set()\n",
    "losses = set()\n",
    "for chosen_weapon, chosen_armor, chosen_rings in get_combos():\n",
    "    weapon_cost, weapon_damage = weapons[chosen_weapon]\n",
    "    armor_cost, armor_value = armor.get(chosen_armor, (0, 0))\n",
    "    ring1_cost, ring1_damage, ring1_armor = rings.get(chosen_rings[0], (0, 0, 0))\n",
    "    ring2_cost, ring2_damage, ring2_armor = rings.get(chosen_rings[1], (0, 0, 0))\n",
    "    \n",
    "    player_stats = {\n",
    "        'hit_points': 100,\n",
    "        'damage': weapon_damage + ring1_damage + ring2_damage,\n",
    "        'armor': armor_value + ring1_armor + ring2_armor,\n",
    "    }\n",
    "    cost = weapon_cost + armor_cost + ring1_cost + ring2_cost\n",
    "    if play_game(player_stats, boss_stats):\n",
    "        wins.add(cost)\n",
    "    else:\n",
    "        losses.add(cost)"
   ]
  },
  {
   "cell_type": "code",
   "execution_count": 11,
   "id": "fa9ae4eb",
   "metadata": {},
   "outputs": [
    {
     "name": "stdout",
     "output_type": "stream",
     "text": [
      "Part 1:\n",
      "121\n"
     ]
    }
   ],
   "source": [
    "print(\"Part 1:\")\n",
    "print(min(wins))"
   ]
  },
  {
   "cell_type": "code",
   "execution_count": 12,
   "id": "ab553f75",
   "metadata": {},
   "outputs": [
    {
     "name": "stdout",
     "output_type": "stream",
     "text": [
      "Part 2:\n",
      "201\n"
     ]
    }
   ],
   "source": [
    "print(\"Part 2:\")\n",
    "print(max(losses))"
   ]
  }
 ],
 "metadata": {
  "kernelspec": {
   "display_name": "Python 3",
   "language": "python",
   "name": "python3"
  },
  "language_info": {
   "codemirror_mode": {
    "name": "ipython",
    "version": 3
   },
   "file_extension": ".py",
   "mimetype": "text/x-python",
   "name": "python",
   "nbconvert_exporter": "python",
   "pygments_lexer": "ipython3",
   "version": "3.10.0"
  }
 },
 "nbformat": 4,
 "nbformat_minor": 5
}
