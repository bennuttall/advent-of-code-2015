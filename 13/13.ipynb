{
 "cells": [
  {
   "cell_type": "code",
   "execution_count": 1,
   "id": "816b9b20",
   "metadata": {},
   "outputs": [],
   "source": [
    "with open('input') as f:\n",
    "    rules = [line.strip() for line in f]"
   ]
  },
  {
   "cell_type": "code",
   "execution_count": 2,
   "id": "d63b8ef1",
   "metadata": {},
   "outputs": [],
   "source": [
    "from collections import defaultdict\n",
    "\n",
    "def get_guests(include_self=False):\n",
    "    guests = set()\n",
    "    guest_pairs = defaultdict(int)\n",
    "    for rule in rules:\n",
    "        parts = rule.split()\n",
    "        a = parts[0]\n",
    "        guests.add(a)\n",
    "        b = parts[-1].replace('.', '')\n",
    "        n = int(parts[3])\n",
    "        if parts[2] == 'lose':\n",
    "            n = - n\n",
    "        guest_pairs[(a, b)] = n\n",
    "    if include_self:\n",
    "        guests.add(\"Me\")\n",
    "    return (guests, guest_pairs)"
   ]
  },
  {
   "cell_type": "code",
   "execution_count": 3,
   "id": "386dfccd",
   "metadata": {},
   "outputs": [],
   "source": [
    "from collections import deque\n",
    "from itertools import islice\n",
    "\n",
    "def sliding_window(iterable, n):\n",
    "    # sliding_window('ABCDEFG', 4) -> ABCD BCDE CDEF DEFG\n",
    "    it = iter(iterable)\n",
    "    window = deque(islice(it, n), maxlen=n)\n",
    "    if len(window) == n:\n",
    "        yield tuple(window)\n",
    "    for x in it:\n",
    "        window.append(x)\n",
    "        yield tuple(window)"
   ]
  },
  {
   "cell_type": "code",
   "execution_count": 4,
   "id": "b550204b",
   "metadata": {},
   "outputs": [],
   "source": [
    "from itertools import permutations\n",
    "\n",
    "def get_happiness(include_self=False):\n",
    "    guests, guest_pairs = get_guests(include_self=include_self)\n",
    "\n",
    "    a = guests.pop()\n",
    "\n",
    "    guest_arrangements = [(a, *p, a) for p in permutations(guests)]\n",
    "    \n",
    "    return max(\n",
    "        sum(\n",
    "            guest_pairs[(a, b)] + guest_pairs[(b, a)]\n",
    "            for a, b in sliding_window(arrangement, 2)\n",
    "        )\n",
    "        for arrangement in guest_arrangements\n",
    "    )"
   ]
  },
  {
   "cell_type": "code",
   "execution_count": 5,
   "id": "72271268",
   "metadata": {},
   "outputs": [
    {
     "name": "stdout",
     "output_type": "stream",
     "text": [
      "Part 1:\n",
      "618\n"
     ]
    }
   ],
   "source": [
    "print(\"Part 1:\")\n",
    "print(get_happiness())"
   ]
  },
  {
   "cell_type": "code",
   "execution_count": 6,
   "id": "dbc4c6d5",
   "metadata": {},
   "outputs": [
    {
     "name": "stdout",
     "output_type": "stream",
     "text": [
      "Part 2:\n",
      "601\n"
     ]
    }
   ],
   "source": [
    "print(\"Part 2:\")\n",
    "print(get_happiness(include_self=True))"
   ]
  }
 ],
 "metadata": {
  "kernelspec": {
   "display_name": "Python 3",
   "language": "python",
   "name": "python3"
  },
  "language_info": {
   "codemirror_mode": {
    "name": "ipython",
    "version": 3
   },
   "file_extension": ".py",
   "mimetype": "text/x-python",
   "name": "python",
   "nbconvert_exporter": "python",
   "pygments_lexer": "ipython3",
   "version": "3.10.0"
  }
 },
 "nbformat": 4,
 "nbformat_minor": 5
}
