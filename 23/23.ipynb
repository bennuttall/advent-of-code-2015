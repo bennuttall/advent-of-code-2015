{
 "cells": [
  {
   "cell_type": "code",
   "execution_count": 1,
   "id": "53fe4446",
   "metadata": {},
   "outputs": [],
   "source": [
    "def process_instruction(line):\n",
    "    parts = line.split()\n",
    "    if parts[0] in ('hlf', 'tpl', 'inc'):\n",
    "        return tuple(parts)\n",
    "    if parts[0] == 'jmp':\n",
    "        return ('jmp', int(parts[1]))\n",
    "    return (parts[0], parts[1][0], int(parts[2]))"
   ]
  },
  {
   "cell_type": "code",
   "execution_count": 2,
   "id": "7d4fd785",
   "metadata": {},
   "outputs": [],
   "source": [
    "with open('input') as f:\n",
    "    instructions = {n: process_instruction(line.strip()) for n, line in enumerate(f)}"
   ]
  },
  {
   "cell_type": "code",
   "execution_count": 3,
   "id": "c76f4329",
   "metadata": {},
   "outputs": [],
   "source": [
    "def run(a, b):\n",
    "    registers = {\n",
    "        'a': a,\n",
    "        'b': b,\n",
    "    }\n",
    "    \n",
    "    i = 0\n",
    "    while True:\n",
    "        instruction = instructions[i]\n",
    "        if instruction[0] == 'hlf':\n",
    "            registers[instruction[1]] /= 2\n",
    "            i += 1\n",
    "        elif instruction[0] == 'tpl':\n",
    "            registers[instruction[1]] *= 3\n",
    "            i += 1\n",
    "        elif instruction[0] == 'inc':\n",
    "            registers[instruction[1]] += 1\n",
    "            i += 1\n",
    "        elif instruction[0] == 'jmp':\n",
    "            i += instruction[1]\n",
    "        elif instruction[0] == 'jie':\n",
    "            if registers[instruction[1]] % 2 == 0:\n",
    "                i += instruction[2]\n",
    "            else:\n",
    "                i += 1\n",
    "        elif instruction[0] == 'jio':\n",
    "            if registers[instruction[1]] == 1:\n",
    "                i += instruction[2]\n",
    "            else:\n",
    "                i += 1\n",
    "        if i not in instructions:\n",
    "            return (registers['a'], registers['b'])"
   ]
  },
  {
   "cell_type": "code",
   "execution_count": 4,
   "id": "6a4268a9",
   "metadata": {},
   "outputs": [
    {
     "name": "stdout",
     "output_type": "stream",
     "text": [
      "Part 1:\n",
      "307\n"
     ]
    }
   ],
   "source": [
    "a, b = run(a=0, b=0)\n",
    "print(\"Part 1:\")\n",
    "print(b)"
   ]
  },
  {
   "cell_type": "code",
   "execution_count": 5,
   "id": "2e8bf95c",
   "metadata": {},
   "outputs": [
    {
     "name": "stdout",
     "output_type": "stream",
     "text": [
      "Part 2:\n",
      "160\n"
     ]
    }
   ],
   "source": [
    "a, b = run(a=1, b=0)\n",
    "print(\"Part 2:\")\n",
    "print(b)"
   ]
  }
 ],
 "metadata": {
  "kernelspec": {
   "display_name": "Python 3",
   "language": "python",
   "name": "python3"
  },
  "language_info": {
   "codemirror_mode": {
    "name": "ipython",
    "version": 3
   },
   "file_extension": ".py",
   "mimetype": "text/x-python",
   "name": "python",
   "nbconvert_exporter": "python",
   "pygments_lexer": "ipython3",
   "version": "3.10.0"
  }
 },
 "nbformat": 4,
 "nbformat_minor": 5
}
