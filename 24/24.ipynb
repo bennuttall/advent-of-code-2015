{
 "cells": [
  {
   "cell_type": "code",
   "execution_count": 1,
   "id": "2b41dab8",
   "metadata": {},
   "outputs": [],
   "source": [
    "with open('input') as f:\n",
    "    packages = {int(line.strip()) for line in f}"
   ]
  },
  {
   "cell_type": "code",
   "execution_count": 2,
   "id": "fbfd9dc0",
   "metadata": {},
   "outputs": [],
   "source": [
    "from functools import reduce\n",
    "\n",
    "def mul(nums):\n",
    "    return reduce(lambda x, y: x*y, nums)"
   ]
  },
  {
   "cell_type": "code",
   "execution_count": 3,
   "id": "8afa11db",
   "metadata": {},
   "outputs": [],
   "source": [
    "from itertools import combinations\n",
    "\n",
    "def find_3_groups_with_smallest_a(packages):\n",
    "    found = False\n",
    "    group_weight = sum(packages) / 3\n",
    "    for i in range(2, round(len(packages) / 3)):\n",
    "        for a in combinations(packages, i):\n",
    "            if sum(a) == group_weight:\n",
    "                if abc := find_groups_bc(a, packages):\n",
    "                    found = True\n",
    "                    yield abc\n",
    "        if found:\n",
    "            return"
   ]
  },
  {
   "cell_type": "code",
   "execution_count": 4,
   "id": "3f6bfa15",
   "metadata": {},
   "outputs": [],
   "source": [
    "def find_groups_bc(group_a, packages):\n",
    "    group_weight = sum(group_a)\n",
    "    others = packages - set(group_a)\n",
    "    for i in range(len(group_a), round(len(group_a) + (len(packages) - 2 * len(group_a)) / 2)):\n",
    "        for group_b in combinations(packages, i):\n",
    "            if sum(group_b) == group_weight:\n",
    "                group_c = others - set(group_b)\n",
    "                if sum(group_c) == group_weight:\n",
    "                    return (group_a, group_b, tuple(group_c))"
   ]
  },
  {
   "cell_type": "code",
   "execution_count": 5,
   "id": "58b6c786",
   "metadata": {},
   "outputs": [],
   "source": [
    "def find_best_combo_3_qe(packages):\n",
    "    groups = find_3_groups_with_smallest_a(packages)\n",
    "    return min([mul(a) for a, b, c in groups])"
   ]
  },
  {
   "cell_type": "code",
   "execution_count": 6,
   "id": "e2687e75",
   "metadata": {},
   "outputs": [
    {
     "name": "stdout",
     "output_type": "stream",
     "text": [
      "Part 1:\n",
      "10723906903\n"
     ]
    }
   ],
   "source": [
    "print(\"Part 1:\")\n",
    "print(find_best_combo_3_qe(packages))"
   ]
  },
  {
   "cell_type": "code",
   "execution_count": 8,
   "id": "cdd25c93",
   "metadata": {},
   "outputs": [],
   "source": [
    "def find_4_groups_with_smallest_a(packages):\n",
    "    found = False\n",
    "    group_weight = sum(packages) / 4\n",
    "    for i in range(2, round(len(packages) / 4)):\n",
    "        for a in combinations(packages, i):\n",
    "            if sum(a) == group_weight:\n",
    "                found = True\n",
    "                yield a\n",
    "#                 if abcd := find_groups_bcd(a, packages):\n",
    "#                     found = True\n",
    "#                     yield abcd\n",
    "        if found:\n",
    "            return"
   ]
  },
  {
   "cell_type": "code",
   "execution_count": null,
   "id": "39bdb1fc",
   "metadata": {},
   "outputs": [],
   "source": [
    "def find_n_groups(group_a, n, packages):\n",
    "    group_weight = sum(group_a)\n",
    "    others = packages - set(group_a)\n",
    "    for group in find_next_group(others, group_weight):\n",
    "        if n == 1:\n",
    "            "
   ]
  },
  {
   "cell_type": "code",
   "execution_count": null,
   "id": "4cc69b3f",
   "metadata": {},
   "outputs": [],
   "source": [
    "for i in range(len(group_a), round(len(group_a) + (len(packages) - 2 * len(group_a)) / 2)):\n",
    "    for group_b in combinations(packages, i):\n",
    "        if sum(group_b) == group_weight:\n",
    "            group_c = others - set(group_b)\n",
    "            if sum(group_c) == group_weight:\n",
    "                return (group_a, group_b, tuple(group_c))"
   ]
  },
  {
   "cell_type": "code",
   "execution_count": 10,
   "id": "9cdc3dfd",
   "metadata": {},
   "outputs": [],
   "source": [
    "groups = list(find_4_groups_with_smallest_a(packages))"
   ]
  },
  {
   "cell_type": "code",
   "execution_count": 11,
   "id": "e4f8728c",
   "metadata": {},
   "outputs": [
    {
     "data": {
      "text/plain": [
       "18"
      ]
     },
     "execution_count": 11,
     "metadata": {},
     "output_type": "execute_result"
    }
   ],
   "source": [
    "len(groups)"
   ]
  },
  {
   "cell_type": "code",
   "execution_count": 12,
   "id": "ae82d562",
   "metadata": {},
   "outputs": [
    {
     "data": {
      "text/plain": [
       "[(59, 103, 109, 113),\n",
       " (61, 101, 109, 113),\n",
       " (61, 103, 107, 113),\n",
       " (67, 97, 107, 113),\n",
       " (67, 101, 103, 113),\n",
       " (67, 101, 107, 109),\n",
       " (71, 97, 103, 113),\n",
       " (71, 97, 107, 109),\n",
       " (71, 101, 103, 109),\n",
       " (73, 89, 109, 113),\n",
       " (73, 97, 101, 113),\n",
       " (73, 101, 103, 107),\n",
       " (79, 83, 109, 113),\n",
       " (79, 89, 103, 113),\n",
       " (79, 89, 107, 109),\n",
       " (79, 97, 101, 107),\n",
       " (83, 89, 103, 109),\n",
       " (83, 97, 101, 103)]"
      ]
     },
     "execution_count": 12,
     "metadata": {},
     "output_type": "execute_result"
    }
   ],
   "source": [
    "groups"
   ]
  },
  {
   "cell_type": "code",
   "execution_count": null,
   "id": "0b6e73e3",
   "metadata": {},
   "outputs": [],
   "source": []
  }
 ],
 "metadata": {
  "kernelspec": {
   "display_name": "Python 3",
   "language": "python",
   "name": "python3"
  },
  "language_info": {
   "codemirror_mode": {
    "name": "ipython",
    "version": 3
   },
   "file_extension": ".py",
   "mimetype": "text/x-python",
   "name": "python",
   "nbconvert_exporter": "python",
   "pygments_lexer": "ipython3",
   "version": "3.10.0"
  }
 },
 "nbformat": 4,
 "nbformat_minor": 5
}
