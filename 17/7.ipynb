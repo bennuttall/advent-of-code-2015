{
 "cells": [
  {
   "cell_type": "code",
   "execution_count": 1,
   "id": "ff49790d",
   "metadata": {},
   "outputs": [
    {
     "data": {
      "text/plain": [
       "[43, 3, 4, 10, 21, 44, 4, 6, 47, 41, 34, 17, 17, 44, 36, 31, 46, 9, 27, 38]"
      ]
     },
     "execution_count": 1,
     "metadata": {},
     "output_type": "execute_result"
    }
   ],
   "source": [
    "with open('input') as f:\n",
    "    containers = [int(line.strip()) for line in f]\n",
    "containers"
   ]
  },
  {
   "cell_type": "code",
   "execution_count": 2,
   "id": "1f30033b",
   "metadata": {},
   "outputs": [],
   "source": [
    "from itertools import combinations, chain\n",
    "\n",
    "combos = list(\n",
    "    chain.from_iterable([\n",
    "        c\n",
    "        for c in combinations(containers, n)\n",
    "        if sum(c) == 150\n",
    "    ]\n",
    "    for n in range(2, len(containers)))\n",
    ")"
   ]
  },
  {
   "cell_type": "code",
   "execution_count": 3,
   "id": "d4b28394",
   "metadata": {},
   "outputs": [
    {
     "name": "stdout",
     "output_type": "stream",
     "text": [
      "Part 1:\n",
      "1638\n"
     ]
    }
   ],
   "source": [
    "print(\"Part 1:\")\n",
    "print(len(combos))"
   ]
  },
  {
   "cell_type": "code",
   "execution_count": 4,
   "id": "afd02a38",
   "metadata": {},
   "outputs": [],
   "source": [
    "from collections import defaultdict\n",
    "\n",
    "counts = defaultdict(int)\n",
    "for c in combos:\n",
    "    counts[len(c)] += 1"
   ]
  },
  {
   "cell_type": "code",
   "execution_count": 5,
   "id": "9f4ba976",
   "metadata": {},
   "outputs": [
    {
     "name": "stdout",
     "output_type": "stream",
     "text": [
      "Part 2:\n",
      "17\n"
     ]
    }
   ],
   "source": [
    "print(\"Part 2:\")\n",
    "print(counts[min(counts)])"
   ]
  }
 ],
 "metadata": {
  "kernelspec": {
   "display_name": "Python 3",
   "language": "python",
   "name": "python3"
  },
  "language_info": {
   "codemirror_mode": {
    "name": "ipython",
    "version": 3
   },
   "file_extension": ".py",
   "mimetype": "text/x-python",
   "name": "python",
   "nbconvert_exporter": "python",
   "pygments_lexer": "ipython3",
   "version": "3.10.0"
  }
 },
 "nbformat": 4,
 "nbformat_minor": 5
}
