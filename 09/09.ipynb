{
 "cells": [
  {
   "cell_type": "code",
   "execution_count": 1,
   "id": "c5853dc7",
   "metadata": {},
   "outputs": [],
   "source": [
    "routes = {}\n",
    "places = set()\n",
    "with open('input') as f:\n",
    "    for line in f:\n",
    "        a, _, b, _, d = line.split()\n",
    "        places |= {a, b}\n",
    "        routes[(a, b)] = int(d)\n",
    "        routes[(b, a)] = int(d)"
   ]
  },
  {
   "cell_type": "code",
   "execution_count": 2,
   "id": "1e4eeb11",
   "metadata": {},
   "outputs": [],
   "source": [
    "from itertools import pairwise, permutations\n",
    "\n",
    "def get_distance_of_route(route):\n",
    "    return sum(routes[r] for r in pairwise(route))"
   ]
  },
  {
   "cell_type": "code",
   "execution_count": 3,
   "id": "e6f75419",
   "metadata": {},
   "outputs": [
    {
     "name": "stdout",
     "output_type": "stream",
     "text": [
      "Part 2:\n",
      "141\n"
     ]
    }
   ],
   "source": [
    "print(\"Part 2:\")\n",
    "print(min(get_distance_of_route(r) for r in permutations(places, len(places))))"
   ]
  },
  {
   "cell_type": "code",
   "execution_count": 4,
   "id": "f49dc9f1",
   "metadata": {},
   "outputs": [
    {
     "name": "stdout",
     "output_type": "stream",
     "text": [
      "Part 2:\n",
      "736\n"
     ]
    }
   ],
   "source": [
    "print(\"Part 2:\")\n",
    "print(max(get_distance_of_route(r) for r in permutations(places, len(places))))"
   ]
  }
 ],
 "metadata": {
  "kernelspec": {
   "display_name": "Python 3",
   "language": "python",
   "name": "python3"
  },
  "language_info": {
   "codemirror_mode": {
    "name": "ipython",
    "version": 3
   },
   "file_extension": ".py",
   "mimetype": "text/x-python",
   "name": "python",
   "nbconvert_exporter": "python",
   "pygments_lexer": "ipython3",
   "version": "3.10.0"
  }
 },
 "nbformat": 4,
 "nbformat_minor": 5
}
