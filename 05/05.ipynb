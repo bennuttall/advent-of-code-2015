{
 "cells": [
  {
   "cell_type": "code",
   "execution_count": 1,
   "metadata": {},
   "outputs": [],
   "source": [
    "with open('input') as f:\n",
    "    strings = [line.strip() for line in f]"
   ]
  },
  {
   "cell_type": "code",
   "execution_count": 2,
   "metadata": {},
   "outputs": [],
   "source": [
    "def three_vowels(s):\n",
    "    return len([c for c in s if c in 'aeiou']) > 2"
   ]
  },
  {
   "cell_type": "code",
   "execution_count": 3,
   "metadata": {},
   "outputs": [],
   "source": [
    "from itertools import tee\n",
    "\n",
    "def pairwise(iterable):\n",
    "    \"s -> (s0,s1), (s1,s2), (s2, s3), ...\"\n",
    "    a, b = tee(iterable)\n",
    "    next(b, None)\n",
    "    return zip(a, b)"
   ]
  },
  {
   "cell_type": "code",
   "execution_count": 4,
   "metadata": {},
   "outputs": [],
   "source": [
    "def repeated_letters(s):\n",
    "    for a, b in pairwise(s):\n",
    "        if a == b:\n",
    "            return True\n",
    "    return False"
   ]
  },
  {
   "cell_type": "code",
   "execution_count": 5,
   "metadata": {},
   "outputs": [],
   "source": [
    "def no_bad_strings(s):\n",
    "    for bad in ('ab', 'cd', 'pq', 'xy'):\n",
    "        if bad in s:\n",
    "            return False\n",
    "    return True"
   ]
  },
  {
   "cell_type": "code",
   "execution_count": 6,
   "metadata": {},
   "outputs": [],
   "source": [
    "def good_string(s):\n",
    "    return three_vowels(s) and repeated_letters(s) and no_bad_strings(s)"
   ]
  },
  {
   "cell_type": "code",
   "execution_count": 7,
   "metadata": {},
   "outputs": [],
   "source": [
    "good_strings = [s for s in strings if good_string(s)]"
   ]
  },
  {
   "cell_type": "code",
   "execution_count": 8,
   "metadata": {},
   "outputs": [
    {
     "name": "stdout",
     "output_type": "stream",
     "text": [
      "Part 1:\n",
      "236\n"
     ]
    }
   ],
   "source": [
    "print(\"Part 1:\")\n",
    "print(len(good_strings))"
   ]
  },
  {
   "cell_type": "code",
   "execution_count": 14,
   "metadata": {},
   "outputs": [],
   "source": [
    "import re\n",
    "\n",
    "def non_overlapping_pairs(s):\n",
    "    return re.search(r'(..).*\\1', s) and re.search(r'(.).\\1', s)"
   ]
  },
  {
   "cell_type": "code",
   "execution_count": 15,
   "metadata": {},
   "outputs": [],
   "source": [
    "from collections import deque\n",
    "\n",
    "def windowed(seq, n, fillvalue=None, step=1):\n",
    "    window = deque(maxlen=n)\n",
    "    i = n\n",
    "    for _ in map(window.append, seq):\n",
    "        i -= 1\n",
    "        if not i:\n",
    "            i = step\n",
    "            yield tuple(window)\n",
    "\n",
    "    size = len(window)\n",
    "    if size < n:\n",
    "        yield tuple(chain(window, repeat(fillvalue, n - size)))\n",
    "    elif 0 < i < min(step, n):\n",
    "        window += (fillvalue,) * i\n",
    "        yield tuple(window)"
   ]
  },
  {
   "cell_type": "code",
   "execution_count": 16,
   "metadata": {},
   "outputs": [],
   "source": [
    "def one_letter_apart(s):\n",
    "    for a, b, c in windowed(s, 3):\n",
    "        if a == c:\n",
    "            return True\n",
    "    return False"
   ]
  },
  {
   "cell_type": "code",
   "execution_count": 17,
   "metadata": {},
   "outputs": [],
   "source": [
    "def good_string_2(s):\n",
    "    return non_overlapping_pairs(s) and one_letter_apart(s)"
   ]
  },
  {
   "cell_type": "code",
   "execution_count": 18,
   "metadata": {},
   "outputs": [
    {
     "name": "stdout",
     "output_type": "stream",
     "text": [
      "Part 2:\n",
      "51\n"
     ]
    }
   ],
   "source": [
    "good_strings_2 = [s for s in strings if good_string_2(s)]\n",
    "print(\"Part 2:\")\n",
    "print(len(good_strings_2))"
   ]
  }
 ],
 "metadata": {
  "kernelspec": {
   "display_name": "Python 3",
   "language": "python",
   "name": "python3"
  },
  "language_info": {
   "codemirror_mode": {
    "name": "ipython",
    "version": 3
   },
   "file_extension": ".py",
   "mimetype": "text/x-python",
   "name": "python",
   "nbconvert_exporter": "python",
   "pygments_lexer": "ipython3",
   "version": "3.8.5"
  }
 },
 "nbformat": 4,
 "nbformat_minor": 4
}
