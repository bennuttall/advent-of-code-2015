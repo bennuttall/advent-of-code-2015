{
 "cells": [
  {
   "cell_type": "code",
   "execution_count": 1,
   "id": "6a2058b0",
   "metadata": {},
   "outputs": [],
   "source": [
    "with open('input') as f:\n",
    "    santas_list = [line.strip() for line in f]"
   ]
  },
  {
   "cell_type": "code",
   "execution_count": 2,
   "id": "f3a1ac6b",
   "metadata": {},
   "outputs": [],
   "source": [
    "def count_characters_in_memory(s):\n",
    "    s = s[1:-1]\n",
    "    b = bytes(s, 'utf-8').decode('unicode_escape')\n",
    "    return len(b)"
   ]
  },
  {
   "cell_type": "code",
   "execution_count": 3,
   "id": "8d3df00c",
   "metadata": {},
   "outputs": [],
   "source": [
    "total_num_chars = sum(len(line) for line in santas_list)\n",
    "num_chars_in_memory = sum(count_characters_in_memory(line) for line in santas_list)"
   ]
  },
  {
   "cell_type": "code",
   "execution_count": 4,
   "id": "759c3595",
   "metadata": {},
   "outputs": [
    {
     "name": "stdout",
     "output_type": "stream",
     "text": [
      "Part 1:\n",
      "1342\n"
     ]
    }
   ],
   "source": [
    "print(\"Part 1:\")\n",
    "print(total_num_chars - num_chars_in_memory)"
   ]
  },
  {
   "cell_type": "code",
   "execution_count": 5,
   "id": "8b3cbfab",
   "metadata": {},
   "outputs": [],
   "source": [
    "import json\n",
    "\n",
    "total_encoded_chars = sum(len(json.dumps(line)) for line in santas_list)"
   ]
  },
  {
   "cell_type": "code",
   "execution_count": 6,
   "id": "291e5c76",
   "metadata": {},
   "outputs": [
    {
     "name": "stdout",
     "output_type": "stream",
     "text": [
      "Part 1:\n",
      "2074\n"
     ]
    }
   ],
   "source": [
    "print(\"Part 1:\")\n",
    "print(total_encoded_chars - total_num_chars)"
   ]
  }
 ],
 "metadata": {
  "kernelspec": {
   "display_name": "Python 3",
   "language": "python",
   "name": "python3"
  },
  "language_info": {
   "codemirror_mode": {
    "name": "ipython",
    "version": 3
   },
   "file_extension": ".py",
   "mimetype": "text/x-python",
   "name": "python",
   "nbconvert_exporter": "python",
   "pygments_lexer": "ipython3",
   "version": "3.10.0"
  }
 },
 "nbformat": 4,
 "nbformat_minor": 5
}
