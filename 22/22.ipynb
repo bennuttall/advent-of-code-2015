{
 "cells": [
  {
   "cell_type": "code",
   "execution_count": 1,
   "id": "5eb182b4",
   "metadata": {},
   "outputs": [],
   "source": [
    "def get_boss_stats():\n",
    "    with open('input') as f:\n",
    "        parts = f.read().strip().split()\n",
    "        return (int(parts[2]), int(parts[4]))"
   ]
  },
  {
   "cell_type": "code",
   "execution_count": 2,
   "id": "4d0177b3",
   "metadata": {},
   "outputs": [],
   "source": [
    "shop = {\n",
    "    'missile': 53,\n",
    "    'drain': 73,\n",
    "    'shield': 113,\n",
    "    'poison': 173,\n",
    "    'recharge': 229,\n",
    "}"
   ]
  },
  {
   "cell_type": "code",
   "execution_count": 3,
   "id": "e3a37b52",
   "metadata": {},
   "outputs": [],
   "source": [
    "def get_cost(moves):\n",
    "    return sum(shop[move] for move in moves)"
   ]
  },
  {
   "cell_type": "code",
   "execution_count": 4,
   "id": "2abff549",
   "metadata": {},
   "outputs": [],
   "source": [
    "from collections import namedtuple\n",
    "\n",
    "Spell = namedtuple(\"Spell\", (\"name\", \"cost\", \"damage\", \"effect_damage\", \"heal\", \"effect_time\", \"reward\"))\n",
    "\n",
    "SPELLS = {\n",
    "    'missile': Spell(\"missile\", 53, 4, 0, 0, 0, 0),\n",
    "    'drain': Spell(\"drain\", 73, 2, 0, 2, 0, 0),\n",
    "    'shield': Spell(\"shield\", 113, 0, 0, 0, 6, 0),\n",
    "    'poison': Spell(\"poison\", 173, 0, 3, 0, 6, 0),\n",
    "    'recharge': Spell(\"recharge\", 229, 0, 0, 0, 5, 101),\n",
    "}"
   ]
  },
  {
   "cell_type": "code",
   "execution_count": 5,
   "id": "a291737b",
   "metadata": {},
   "outputs": [],
   "source": [
    "from dataclasses import dataclass\n",
    "\n",
    "@dataclass\n",
    "class Player:\n",
    "    hit_points: int\n",
    "    mana: int\n",
    "        \n",
    "@dataclass\n",
    "class Boss:\n",
    "    hit_points: int\n",
    "    damage: int"
   ]
  },
  {
   "cell_type": "code",
   "execution_count": 6,
   "id": "f361f3fa",
   "metadata": {},
   "outputs": [],
   "source": [
    "class PlayerWins(Exception):\n",
    "    pass\n",
    "\n",
    "class BossWins(Exception):\n",
    "    pass\n",
    "\n",
    "class EffectActive(Exception):\n",
    "    pass\n",
    "\n",
    "class OutOfMoney(Exception):\n",
    "    pass"
   ]
  },
  {
   "cell_type": "code",
   "execution_count": 7,
   "id": "f8468692",
   "metadata": {},
   "outputs": [],
   "source": [
    "class Game:\n",
    "    def __init__(self, player_stats, boss_stats, hard=False):\n",
    "        self.player = Player(*player_stats)\n",
    "        self.boss = Boss(*boss_stats)\n",
    "        self.effects = {}\n",
    "        self.hard = hard\n",
    "        self.player_turn = True\n",
    "        \n",
    "    def __next__(self):\n",
    "        if self.hard and self.player_turn:\n",
    "            self.player.hit_points -= 1\n",
    "            self.check_winner()\n",
    "        self.player_turn = not self.player_turn\n",
    "        self.do_effects()\n",
    "        self.check_winner()\n",
    "        \n",
    "    def do_effects(self):\n",
    "        for name in list(self.effects):\n",
    "            effect = SPELLS[name]\n",
    "            self.boss.hit_points -= effect.effect_damage\n",
    "            self.player.hit_points += effect.heal\n",
    "            self.player.mana += effect.reward\n",
    "            self.effects[name] -= 1\n",
    "            if self.effects[name] == 0:\n",
    "                self.effects.pop(name)\n",
    "        \n",
    "    def player_move(self, spell_name):\n",
    "        spell = SPELLS[spell_name]\n",
    "        self.boss.hit_points -= spell.damage\n",
    "        self.player.hit_points += spell.heal\n",
    "        if spell.cost > self.player.mana:\n",
    "            raise OutOfMoney()\n",
    "        self.player.mana -= spell.cost\n",
    "        if spell.effect_time:\n",
    "            if spell.name in self.effects:\n",
    "                raise EffectActive()\n",
    "            self.effects[spell.name] = spell.effect_time\n",
    "        \n",
    "    def boss_move(self):\n",
    "        armor = 7 if 'shield' in self.effects else 0\n",
    "        damage = max(self.boss.damage - armor, 1)\n",
    "        self.player.hit_points -= damage\n",
    "        \n",
    "    def check_winner(self):\n",
    "        if self.player.hit_points < 1:\n",
    "            raise BossWins()\n",
    "        if self.boss.hit_points < 1:\n",
    "            raise PlayerWins()"
   ]
  },
  {
   "cell_type": "code",
   "execution_count": 8,
   "id": "c155e58a",
   "metadata": {},
   "outputs": [],
   "source": [
    "def get_next_moves(prev_moves):\n",
    "    next_moves = set(SPELLS)\n",
    "    if 'shield' in prev_moves:\n",
    "        next_moves.discard('shield')\n",
    "    if 'poison' in prev_moves:\n",
    "        next_moves.discard('poison')\n",
    "    if 'recharge' in prev_moves:\n",
    "        next_moves.discard('recharge')\n",
    "    yield from next_moves"
   ]
  },
  {
   "cell_type": "code",
   "execution_count": 9,
   "id": "25d1be7e",
   "metadata": {},
   "outputs": [],
   "source": [
    "def play(player_stats, boss_stats, prev_moves, hard=False):\n",
    "    global best_win\n",
    "    for next_move in get_next_moves(prev_moves[-3:]):\n",
    "        game = Game(player_stats, boss_stats, hard)\n",
    "        for move in prev_moves:\n",
    "            next(game)\n",
    "            game.player_move(move)\n",
    "            next(game)\n",
    "            game.boss_move()\n",
    "        next(game)\n",
    "        moves = prev_moves + [next_move]\n",
    "        cost = get_cost(moves)\n",
    "        if best_win and cost >= best_win:\n",
    "            continue\n",
    "        try:\n",
    "            game.player_move(next_move)\n",
    "            next(game)\n",
    "            game.boss_move()\n",
    "            next(game)\n",
    "        except PlayerWins:\n",
    "            best_win = cost\n",
    "            continue\n",
    "        except (BossWins, OutOfMoney):\n",
    "            continue\n",
    "        play(player_stats, boss_stats, moves, hard)"
   ]
  },
  {
   "cell_type": "code",
   "execution_count": 10,
   "id": "613f5b7f",
   "metadata": {},
   "outputs": [],
   "source": [
    "player_stats = (50, 500)\n",
    "best_win = None\n",
    "boss_stats = get_boss_stats()\n",
    "for spell in SPELLS:\n",
    "    play(player_stats, boss_stats, [spell])"
   ]
  },
  {
   "cell_type": "code",
   "execution_count": 11,
   "id": "7a7f69b0",
   "metadata": {},
   "outputs": [
    {
     "name": "stdout",
     "output_type": "stream",
     "text": [
      "Part 1:\n",
      "953\n"
     ]
    }
   ],
   "source": [
    "print(\"Part 1:\")\n",
    "print(best_win)"
   ]
  },
  {
   "cell_type": "code",
   "execution_count": 12,
   "id": "850190f8",
   "metadata": {},
   "outputs": [],
   "source": [
    "player_stats = (50, 500)\n",
    "best_win = None\n",
    "for spell in SPELLS:\n",
    "    play(player_stats, boss_stats, [spell], hard=True)"
   ]
  },
  {
   "cell_type": "code",
   "execution_count": 13,
   "id": "809000cf",
   "metadata": {},
   "outputs": [
    {
     "name": "stdout",
     "output_type": "stream",
     "text": [
      "Part 2:\n",
      "1295\n"
     ]
    }
   ],
   "source": [
    "print(\"Part 2:\")\n",
    "print(best_win)"
   ]
  }
 ],
 "metadata": {
  "kernelspec": {
   "display_name": "Python 3",
   "language": "python",
   "name": "python3"
  },
  "language_info": {
   "codemirror_mode": {
    "name": "ipython",
    "version": 3
   },
   "file_extension": ".py",
   "mimetype": "text/x-python",
   "name": "python",
   "nbconvert_exporter": "python",
   "pygments_lexer": "ipython3",
   "version": "3.10.0"
  }
 },
 "nbformat": 4,
 "nbformat_minor": 5
}
