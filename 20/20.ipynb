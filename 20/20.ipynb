{
 "cells": [
  {
   "cell_type": "code",
   "execution_count": 1,
   "id": "2308c4b0",
   "metadata": {},
   "outputs": [],
   "source": [
    "puzzle_input = 33100000"
   ]
  },
  {
   "cell_type": "code",
   "execution_count": 2,
   "id": "cd3d602d",
   "metadata": {},
   "outputs": [],
   "source": [
    "from functools import reduce\n",
    "\n",
    "def factors(n):    \n",
    "    return set(reduce(list.__add__, ([i, n//i] for i in range(1, int(n**0.5) + 1) if n % i == 0)))"
   ]
  },
  {
   "cell_type": "code",
   "execution_count": 3,
   "id": "643903b8",
   "metadata": {},
   "outputs": [],
   "source": [
    "def calc_num_presents(n):\n",
    "    return sum(10 * f for f in factors(n))"
   ]
  },
  {
   "cell_type": "code",
   "execution_count": 4,
   "id": "0a5da18a",
   "metadata": {},
   "outputs": [],
   "source": [
    "n = 0\n",
    "presents = 0\n",
    "while puzzle_input >= presents:\n",
    "    n += 1\n",
    "    presents = calc_num_presents(n)"
   ]
  },
  {
   "cell_type": "code",
   "execution_count": 5,
   "id": "615c10a4",
   "metadata": {},
   "outputs": [
    {
     "name": "stdout",
     "output_type": "stream",
     "text": [
      "Part 1:\n",
      "776160\n"
     ]
    }
   ],
   "source": [
    "print(\"Part 1:\")\n",
    "print(n)"
   ]
  },
  {
   "cell_type": "code",
   "execution_count": 6,
   "id": "05c832f4",
   "metadata": {},
   "outputs": [],
   "source": [
    "def calc_num_presents_v2(n):\n",
    "    elves = [f for f in factors(n) if elf_visits[f] < 50]\n",
    "    for elf in elves:\n",
    "        elf_visits[elf] += 1\n",
    "    return sum(11 * f for f in elves)"
   ]
  },
  {
   "cell_type": "code",
   "execution_count": 7,
   "id": "7e9b590a",
   "metadata": {},
   "outputs": [],
   "source": [
    "from collections import defaultdict\n",
    "\n",
    "elf_visits = defaultdict(int)\n",
    "n = 0\n",
    "presents = 0\n",
    "while puzzle_input >= presents:\n",
    "    n += 1\n",
    "    presents = calc_num_presents_v2(n)"
   ]
  },
  {
   "cell_type": "code",
   "execution_count": 8,
   "id": "15d97844",
   "metadata": {},
   "outputs": [
    {
     "name": "stdout",
     "output_type": "stream",
     "text": [
      "Part 2:\n",
      "786240\n"
     ]
    }
   ],
   "source": [
    "print(\"Part 2:\")\n",
    "print(n)"
   ]
  }
 ],
 "metadata": {
  "kernelspec": {
   "display_name": "Python 3",
   "language": "python",
   "name": "python3"
  },
  "language_info": {
   "codemirror_mode": {
    "name": "ipython",
    "version": 3
   },
   "file_extension": ".py",
   "mimetype": "text/x-python",
   "name": "python",
   "nbconvert_exporter": "python",
   "pygments_lexer": "ipython3",
   "version": "3.10.0"
  }
 },
 "nbformat": 4,
 "nbformat_minor": 5
}
