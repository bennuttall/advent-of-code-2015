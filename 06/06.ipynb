{
 "cells": [
  {
   "cell_type": "code",
   "execution_count": 1,
   "id": "936a69cf",
   "metadata": {},
   "outputs": [],
   "source": [
    "def process_instruction(line):\n",
    "    if line.startswith('turn on'):\n",
    "        command = 'on'\n",
    "        line = line[len('turn on '):]\n",
    "    elif line.startswith('turn off'):\n",
    "        command = 'off'\n",
    "        line = line[len('turn off '):]\n",
    "    elif line.startswith('toggle'):\n",
    "        command = 'toggle'\n",
    "        line = line[len('toggle '):]\n",
    "    start = tuple([int(i) for i in line.split(' ')[0].split(',')])\n",
    "    end = tuple([int(i) for i in line.split(' ')[2].split(',')])\n",
    "    return (command, start, end)"
   ]
  },
  {
   "cell_type": "code",
   "execution_count": 2,
   "id": "be0cb4e3",
   "metadata": {},
   "outputs": [],
   "source": [
    "with open('input') as f:\n",
    "    instructions = [\n",
    "        process_instruction(line.strip())\n",
    "        for line in f\n",
    "    ]"
   ]
  },
  {
   "cell_type": "code",
   "execution_count": 3,
   "id": "8037cab0",
   "metadata": {},
   "outputs": [],
   "source": [
    "from itertools import product\n",
    "\n",
    "lights_on = set()\n",
    "for command, start, end in instructions:\n",
    "    start_x, start_y = start\n",
    "    end_x, end_y = end\n",
    "    changing_lights = set(product(range(start_x, end_x + 1), range(start_y, end_y + 1)))\n",
    "    if command == 'on':\n",
    "        lights_on |= changing_lights\n",
    "    elif command == 'off':\n",
    "        lights_on -= changing_lights\n",
    "    elif command == 'toggle':\n",
    "        to_turn_on = changing_lights - lights_on\n",
    "        to_turn_off = lights_on & changing_lights\n",
    "        lights_on |= to_turn_on\n",
    "        lights_on -= to_turn_off"
   ]
  },
  {
   "cell_type": "code",
   "execution_count": 4,
   "id": "245ae95f",
   "metadata": {},
   "outputs": [
    {
     "name": "stdout",
     "output_type": "stream",
     "text": [
      "Part 1:\n",
      "400410\n"
     ]
    }
   ],
   "source": [
    "print(\"Part 1:\")\n",
    "print(len(lights_on))"
   ]
  },
  {
   "cell_type": "code",
   "execution_count": 5,
   "id": "df2cfe5f",
   "metadata": {},
   "outputs": [],
   "source": [
    "from collections import defaultdict\n",
    "\n",
    "lights = defaultdict(int)\n",
    "for command, start, end in instructions:\n",
    "    start_x, start_y = start\n",
    "    end_x, end_y = end\n",
    "    changing_lights = set(product(range(start_x, end_x + 1), range(start_y, end_y + 1)))\n",
    "    for light in changing_lights:\n",
    "        if command == 'on':\n",
    "            lights[light] += 1\n",
    "        elif command == 'off' and lights[light] > 0:\n",
    "            lights[light] -= 1\n",
    "        elif command == 'toggle':\n",
    "            lights[light] += 2"
   ]
  },
  {
   "cell_type": "code",
   "execution_count": 6,
   "id": "b117b8b6",
   "metadata": {},
   "outputs": [
    {
     "name": "stdout",
     "output_type": "stream",
     "text": [
      "Part 2:\n",
      "15343601\n"
     ]
    }
   ],
   "source": [
    "print(\"Part 2:\")\n",
    "print(sum(lights.values()))"
   ]
  },
  {
   "cell_type": "code",
   "execution_count": null,
   "id": "47751f1d",
   "metadata": {},
   "outputs": [],
   "source": []
  }
 ],
 "metadata": {
  "kernelspec": {
   "display_name": "Python 3",
   "language": "python",
   "name": "python3"
  },
  "language_info": {
   "codemirror_mode": {
    "name": "ipython",
    "version": 3
   },
   "file_extension": ".py",
   "mimetype": "text/x-python",
   "name": "python",
   "nbconvert_exporter": "python",
   "pygments_lexer": "ipython3",
   "version": "3.10.0"
  }
 },
 "nbformat": 4,
 "nbformat_minor": 5
}
