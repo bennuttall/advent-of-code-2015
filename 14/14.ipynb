{
 "cells": [
  {
   "cell_type": "code",
   "execution_count": 1,
   "id": "5c08df8b",
   "metadata": {},
   "outputs": [],
   "source": [
    "reindeer = {}\n",
    "with open('input') as f:\n",
    "    for line in f:\n",
    "        parts = line.strip().split()\n",
    "        name = parts[0]\n",
    "        speed = int(parts[3])\n",
    "        fly_time = int(parts[6])\n",
    "        rest_time = int(parts[13])\n",
    "        reindeer[name] = (speed, fly_time, rest_time)"
   ]
  },
  {
   "cell_type": "code",
   "execution_count": 2,
   "id": "e903a0b6",
   "metadata": {},
   "outputs": [],
   "source": [
    "def calc_distance(name, time):\n",
    "    speed, fly_time, rest_time = reindeer[name]\n",
    "    time_flying = time_resting = 0\n",
    "    distance = 0\n",
    "    flying = True\n",
    "    for second in range(time):\n",
    "        if flying:\n",
    "            distance += speed\n",
    "            time_flying += 1\n",
    "            if time_flying == fly_time:\n",
    "                flying = False\n",
    "                time_flying = 0\n",
    "        else:\n",
    "            time_resting += 1\n",
    "            if time_resting == rest_time:\n",
    "                flying = True\n",
    "                time_resting = 0\n",
    "    return distance"
   ]
  },
  {
   "cell_type": "code",
   "execution_count": 3,
   "id": "14cfe267",
   "metadata": {},
   "outputs": [
    {
     "name": "stdout",
     "output_type": "stream",
     "text": [
      "Part 1:\n",
      "2696\n"
     ]
    }
   ],
   "source": [
    "print(\"Part 1:\")\n",
    "print(max(calc_distance(name, 2503) for name in reindeer))"
   ]
  },
  {
   "cell_type": "code",
   "execution_count": 4,
   "id": "dd285dfc",
   "metadata": {},
   "outputs": [],
   "source": [
    "def calc_distance_continuous(name, time):\n",
    "    speed, fly_time, rest_time = reindeer[name]\n",
    "    time_flying = time_resting = 0\n",
    "    distance = 0\n",
    "    flying = True\n",
    "    for second in range(time):\n",
    "        if flying:\n",
    "            distance += speed\n",
    "            time_flying += 1\n",
    "            if time_flying == fly_time:\n",
    "                flying = False\n",
    "                time_flying = 0\n",
    "        else:\n",
    "            time_resting += 1\n",
    "            if time_resting == rest_time:\n",
    "                flying = True\n",
    "                time_resting = 0\n",
    "        yield distance"
   ]
  },
  {
   "cell_type": "code",
   "execution_count": 5,
   "id": "70fcca2b",
   "metadata": {},
   "outputs": [],
   "source": [
    "distance_generators = {name: calc_distance_continuous(name, 2503) for name in reindeer}"
   ]
  },
  {
   "cell_type": "code",
   "execution_count": 6,
   "id": "01e4db13",
   "metadata": {},
   "outputs": [],
   "source": [
    "from collections import defaultdict\n",
    "\n",
    "points = defaultdict(int)\n",
    "for t in range(2503):\n",
    "    distances = {name: next(distance_gen) for name, distance_gen in distance_generators.items()}\n",
    "    max_distance = max(distances.values())\n",
    "    for name, distance in distances.items():\n",
    "        if distance == max_distance:\n",
    "            points[name] += 1"
   ]
  },
  {
   "cell_type": "code",
   "execution_count": 7,
   "id": "5073599b",
   "metadata": {},
   "outputs": [
    {
     "name": "stdout",
     "output_type": "stream",
     "text": [
      "Part 2:\n",
      "1084\n"
     ]
    }
   ],
   "source": [
    "print(\"Part 2:\")\n",
    "print(max(points.values()))"
   ]
  }
 ],
 "metadata": {
  "kernelspec": {
   "display_name": "Python 3",
   "language": "python",
   "name": "python3"
  },
  "language_info": {
   "codemirror_mode": {
    "name": "ipython",
    "version": 3
   },
   "file_extension": ".py",
   "mimetype": "text/x-python",
   "name": "python",
   "nbconvert_exporter": "python",
   "pygments_lexer": "ipython3",
   "version": "3.10.0"
  }
 },
 "nbformat": 4,
 "nbformat_minor": 5
}
