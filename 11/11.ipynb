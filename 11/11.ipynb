{
 "cells": [
  {
   "cell_type": "code",
   "execution_count": 1,
   "id": "ba6fc486",
   "metadata": {},
   "outputs": [],
   "source": [
    "password = \"vzbxkghb\""
   ]
  },
  {
   "cell_type": "code",
   "execution_count": 2,
   "id": "8d370bf9",
   "metadata": {},
   "outputs": [],
   "source": [
    "CHARS = 'abcdefghjkmnpqrstuvwxyz'\n",
    "\n",
    "def increment_password(password):\n",
    "    if len(password) == 0:\n",
    "        return 'a'\n",
    "    last_char = password[-1]\n",
    "    if last_char == 'z':\n",
    "        return increment_password(password[:-1]) + 'a'\n",
    "    new_last_char = CHARS[CHARS.index(last_char) + 1]\n",
    "    return password[:-1] + new_last_char"
   ]
  },
  {
   "cell_type": "code",
   "execution_count": 3,
   "id": "466c5740",
   "metadata": {},
   "outputs": [],
   "source": [
    "from collections import deque\n",
    "from itertools import islice\n",
    "\n",
    "def sliding_window(iterable, n):\n",
    "    # sliding_window('ABCDEFG', 4) -> ABCD BCDE CDEF DEFG\n",
    "    it = iter(iterable)\n",
    "    window = deque(islice(it, n), maxlen=n)\n",
    "    if len(window) == n:\n",
    "        yield ''.join(window)\n",
    "    for x in it:\n",
    "        window.append(x)\n",
    "        yield ''.join(window)"
   ]
  },
  {
   "cell_type": "code",
   "execution_count": 4,
   "id": "63ca4dfd",
   "metadata": {},
   "outputs": [],
   "source": [
    "from string import ascii_lowercase\n",
    "\n",
    "def abc_rule(password):\n",
    "    for view in sliding_window(password, 3):\n",
    "        if view in ascii_lowercase:\n",
    "            return True\n",
    "    return False"
   ]
  },
  {
   "cell_type": "code",
   "execution_count": 5,
   "id": "cd7ca4ac",
   "metadata": {},
   "outputs": [],
   "source": [
    "doubles = {c * 2 for c in CHARS}\n",
    "\n",
    "def aa_rule(password):\n",
    "    c = 0\n",
    "    for d in doubles:\n",
    "        if d in password:\n",
    "            password.replace(d, 'XX')\n",
    "            c += 1\n",
    "            continue\n",
    "    return c >= 2"
   ]
  },
  {
   "cell_type": "code",
   "execution_count": 6,
   "id": "5dcc116c",
   "metadata": {},
   "outputs": [],
   "source": [
    "def validate_password(password):\n",
    "    return abc_rule(password) and aa_rule(password)"
   ]
  },
  {
   "cell_type": "code",
   "execution_count": 7,
   "id": "d1176d3b",
   "metadata": {},
   "outputs": [],
   "source": [
    "def get_next_valid_password(password):\n",
    "    while True:\n",
    "        password = increment_password(password)\n",
    "        if validate_password(password):\n",
    "            return password"
   ]
  },
  {
   "cell_type": "code",
   "execution_count": 8,
   "id": "33a8d606",
   "metadata": {},
   "outputs": [
    {
     "name": "stdout",
     "output_type": "stream",
     "text": [
      "Part 1:\n",
      "vzbxxyzz\n"
     ]
    }
   ],
   "source": [
    "next_password = get_next_valid_password(password)\n",
    "print(\"Part 1:\")\n",
    "print(next_password)"
   ]
  },
  {
   "cell_type": "code",
   "execution_count": 9,
   "id": "74f3b7b7",
   "metadata": {},
   "outputs": [
    {
     "name": "stdout",
     "output_type": "stream",
     "text": [
      "Part 2:\n",
      "vzcaabcc\n"
     ]
    }
   ],
   "source": [
    "next_password = get_next_valid_password(next_password)\n",
    "print(\"Part 2:\")\n",
    "print(next_password)"
   ]
  }
 ],
 "metadata": {
  "kernelspec": {
   "display_name": "Python 3",
   "language": "python",
   "name": "python3"
  },
  "language_info": {
   "codemirror_mode": {
    "name": "ipython",
    "version": 3
   },
   "file_extension": ".py",
   "mimetype": "text/x-python",
   "name": "python",
   "nbconvert_exporter": "python",
   "pygments_lexer": "ipython3",
   "version": "3.10.0"
  }
 },
 "nbformat": 4,
 "nbformat_minor": 5
}
