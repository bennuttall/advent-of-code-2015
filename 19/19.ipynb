{
 "cells": [
  {
   "cell_type": "code",
   "execution_count": 1,
   "id": "a0319fbc",
   "metadata": {},
   "outputs": [],
   "source": [
    "replacements = []\n",
    "replacements_reversed = []\n",
    "with open('input') as f:\n",
    "    for line in f:\n",
    "        if '=>' in line:\n",
    "            a, b = line.strip().split(' => ')\n",
    "            replacements.append((a, b))\n",
    "            replacements_reversed.append((b, a))\n",
    "        else:\n",
    "            medicine_molecule = line.strip()"
   ]
  },
  {
   "cell_type": "code",
   "execution_count": 2,
   "id": "cdd3a3dc",
   "metadata": {},
   "outputs": [],
   "source": [
    "from collections import deque\n",
    "from itertools import islice\n",
    "\n",
    "def sliding_window(iterable, n):\n",
    "    # sliding_window('ABCDEFG', 4) -> ABCD BCDE CDEF DEFG\n",
    "    it = iter(iterable)\n",
    "    window = deque(islice(it, n), maxlen=n)\n",
    "    if len(window) == n:\n",
    "        yield ''.join(window)\n",
    "    for x in it:\n",
    "        window.append(x)\n",
    "        yield ''.join(window)"
   ]
  },
  {
   "cell_type": "code",
   "execution_count": 3,
   "id": "ad6acf88",
   "metadata": {},
   "outputs": [],
   "source": [
    "def generate(start, replacements):\n",
    "    for a, b in replacements:\n",
    "        for i, substr in enumerate(sliding_window(start, len(a))):\n",
    "            if substr == a:\n",
    "                yield start[:i] + b + start[i + len(a):]"
   ]
  },
  {
   "cell_type": "code",
   "execution_count": 4,
   "id": "5ca361a4",
   "metadata": {},
   "outputs": [
    {
     "name": "stdout",
     "output_type": "stream",
     "text": [
      "Part 1:\n",
      "509\n"
     ]
    }
   ],
   "source": [
    "print(\"Part 1:\")\n",
    "print(len(set(generate(medicine_molecule, replacements))))"
   ]
  },
  {
   "cell_type": "code",
   "execution_count": 5,
   "id": "3dc79477",
   "metadata": {},
   "outputs": [],
   "source": [
    "from itertools import chain\n",
    "\n",
    "start = 'e'\n",
    "molecules = {medicine_molecule}\n",
    "molecules_seen = set()\n",
    "i = 0\n",
    "while start not in molecules and len(molecules) > 0:\n",
    "    new_molecules = set(chain.from_iterable(generate(molecule, replacements_reversed) for molecule in molecules)) - molecules_seen\n",
    "    molecules = set(sorted(list(new_molecules), key=lambda x: len(x))[:1000])\n",
    "    molecules_seen |= molecules\n",
    "    i += 1"
   ]
  },
  {
   "cell_type": "code",
   "execution_count": 6,
   "id": "32665759",
   "metadata": {},
   "outputs": [
    {
     "name": "stdout",
     "output_type": "stream",
     "text": [
      "Part 2:\n",
      "195\n"
     ]
    }
   ],
   "source": [
    "print(\"Part 2:\")\n",
    "print(i)"
   ]
  }
 ],
 "metadata": {
  "kernelspec": {
   "display_name": "Python 3",
   "language": "python",
   "name": "python3"
  },
  "language_info": {
   "codemirror_mode": {
    "name": "ipython",
    "version": 3
   },
   "file_extension": ".py",
   "mimetype": "text/x-python",
   "name": "python",
   "nbconvert_exporter": "python",
   "pygments_lexer": "ipython3",
   "version": "3.10.0"
  }
 },
 "nbformat": 4,
 "nbformat_minor": 5
}
