{
 "cells": [
  {
   "cell_type": "code",
   "execution_count": 1,
   "id": "948671ec",
   "metadata": {},
   "outputs": [],
   "source": [
    "import json\n",
    "\n",
    "with open('input') as f:\n",
    "    data = json.load(f)"
   ]
  },
  {
   "cell_type": "code",
   "execution_count": 2,
   "id": "c949c0f2",
   "metadata": {},
   "outputs": [],
   "source": [
    "def flatten(data):\n",
    "    if type(data) == int:\n",
    "        yield data\n",
    "    elif type(data) == list:\n",
    "        for item in data:\n",
    "            yield from flatten(item)\n",
    "    elif type(data) == dict:\n",
    "        for k, v in data.items():\n",
    "            yield from flatten(k)\n",
    "            yield from flatten(v)"
   ]
  },
  {
   "cell_type": "code",
   "execution_count": 3,
   "id": "7c31d0a8",
   "metadata": {},
   "outputs": [
    {
     "name": "stdout",
     "output_type": "stream",
     "text": [
      "Part 1:\n"
     ]
    },
    {
     "data": {
      "text/plain": [
       "191164"
      ]
     },
     "execution_count": 3,
     "metadata": {},
     "output_type": "execute_result"
    }
   ],
   "source": [
    "print(\"Part 1:\")\n",
    "sum(flatten(data))"
   ]
  },
  {
   "cell_type": "code",
   "execution_count": 4,
   "id": "83f5892f",
   "metadata": {},
   "outputs": [],
   "source": [
    "def flatten_without_red(data):\n",
    "    if type(data) == int:\n",
    "        yield data\n",
    "    elif type(data) == list:\n",
    "        for item in data:\n",
    "            yield from flatten_without_red(item)\n",
    "    elif type(data) == dict and 'red' not in {v for v in data.values() if type(v) == str}:\n",
    "        for k, v in data.items():\n",
    "            yield from flatten_without_red(k)\n",
    "            yield from flatten_without_red(v)"
   ]
  },
  {
   "cell_type": "code",
   "execution_count": 5,
   "id": "6f607e4f",
   "metadata": {},
   "outputs": [
    {
     "name": "stdout",
     "output_type": "stream",
     "text": [
      "Part 2:\n",
      "87842\n"
     ]
    }
   ],
   "source": [
    "print(\"Part 2:\")\n",
    "print(sum(flatten_without_red(data)))"
   ]
  }
 ],
 "metadata": {
  "kernelspec": {
   "display_name": "Python 3",
   "language": "python",
   "name": "python3"
  },
  "language_info": {
   "codemirror_mode": {
    "name": "ipython",
    "version": 3
   },
   "file_extension": ".py",
   "mimetype": "text/x-python",
   "name": "python",
   "nbconvert_exporter": "python",
   "pygments_lexer": "ipython3",
   "version": "3.10.0"
  }
 },
 "nbformat": 4,
 "nbformat_minor": 5
}
