{
 "cells": [
  {
   "cell_type": "code",
   "execution_count": 1,
   "id": "845c7622",
   "metadata": {},
   "outputs": [],
   "source": [
    "SIZE = 100\n",
    "\n",
    "def get_initial_state(always_on=set()):\n",
    "    lights_on = set()\n",
    "    with open('input') as f:\n",
    "        for y, line in enumerate(f):\n",
    "            lights_on |= {(x, y) for x, cell in enumerate(line) if cell == '#'}\n",
    "    return lights_on | always_on"
   ]
  },
  {
   "cell_type": "code",
   "execution_count": 2,
   "id": "8516d971",
   "metadata": {},
   "outputs": [],
   "source": [
    "from itertools import product\n",
    "\n",
    "def count_neighbours(x, y):\n",
    "    deltas = set(product((-1, 0, 1), repeat=2)) - {(0, 0)}\n",
    "    return len({(x + dx, y + dy) for (dx, dy) in deltas} & lights_on)"
   ]
  },
  {
   "cell_type": "code",
   "execution_count": 3,
   "id": "e6e7866a",
   "metadata": {},
   "outputs": [],
   "source": [
    "def evolve(lights_on, always_on=set()):\n",
    "    still_on = {(x, y) for x, y in lights_on if count_neighbours(x, y) in (2, 3)}\n",
    "    now_off = set(product(range(SIZE), repeat=2)) - lights_on\n",
    "    turn_on = {(x, y) for x, y in now_off if count_neighbours(x, y) == 3}\n",
    "    return still_on | turn_on | always_on"
   ]
  },
  {
   "cell_type": "code",
   "execution_count": 4,
   "id": "16b8cd80",
   "metadata": {},
   "outputs": [],
   "source": [
    "lights_on = get_initial_state()\n",
    "for i in range(100):\n",
    "    lights_on = evolve(lights_on)"
   ]
  },
  {
   "cell_type": "code",
   "execution_count": 5,
   "id": "4c15078a",
   "metadata": {},
   "outputs": [
    {
     "name": "stdout",
     "output_type": "stream",
     "text": [
      "Part 1:\n",
      "1061\n"
     ]
    }
   ],
   "source": [
    "print(\"Part 1:\")\n",
    "print(len(lights_on))"
   ]
  },
  {
   "cell_type": "code",
   "execution_count": 6,
   "id": "a9c19194",
   "metadata": {},
   "outputs": [],
   "source": [
    "always_on = {(0, 0), (0, 99), (99, 0), (99, 99)}\n",
    "lights_on = get_initial_state(always_on)\n",
    "for i in range(100):\n",
    "    lights_on = evolve(lights_on, always_on)"
   ]
  },
  {
   "cell_type": "code",
   "execution_count": 7,
   "id": "e4bc518a",
   "metadata": {},
   "outputs": [
    {
     "name": "stdout",
     "output_type": "stream",
     "text": [
      "Part 2:\n",
      "1006\n"
     ]
    }
   ],
   "source": [
    "print(\"Part 2:\")\n",
    "print(len(lights_on))"
   ]
  }
 ],
 "metadata": {
  "kernelspec": {
   "display_name": "Python 3",
   "language": "python",
   "name": "python3"
  },
  "language_info": {
   "codemirror_mode": {
    "name": "ipython",
    "version": 3
   },
   "file_extension": ".py",
   "mimetype": "text/x-python",
   "name": "python",
   "nbconvert_exporter": "python",
   "pygments_lexer": "ipython3",
   "version": "3.10.0"
  }
 },
 "nbformat": 4,
 "nbformat_minor": 5
}
