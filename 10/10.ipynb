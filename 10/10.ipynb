{
 "cells": [
  {
   "cell_type": "code",
   "execution_count": 1,
   "id": "4a9ba7ab",
   "metadata": {},
   "outputs": [],
   "source": [
    "digits = \"1113222113\""
   ]
  },
  {
   "cell_type": "code",
   "execution_count": 2,
   "id": "a6812297",
   "metadata": {},
   "outputs": [],
   "source": [
    "def look_and_say(digits, repeat):\n",
    "    for i in range(repeat):\n",
    "        digit_streams = []\n",
    "        last_digit = None\n",
    "        new_digits = ''\n",
    "        for digit in digits:\n",
    "            if digit != last_digit:\n",
    "                if new_digits:\n",
    "                    digit_streams.append(new_digits)\n",
    "                new_digits = digit\n",
    "            else:\n",
    "                new_digits += digit\n",
    "            last_digit = digit\n",
    "        digit_streams.append(new_digits)\n",
    "        digits = ''\n",
    "        for stream in digit_streams:\n",
    "            digits += f\"{len(stream)}{stream[0]}\"\n",
    "    return digits"
   ]
  },
  {
   "cell_type": "code",
   "execution_count": 3,
   "id": "0397c3cd",
   "metadata": {},
   "outputs": [
    {
     "name": "stdout",
     "output_type": "stream",
     "text": [
      "Part 1:\n",
      "252594\n"
     ]
    }
   ],
   "source": [
    "print(\"Part 1:\")\n",
    "print(len(look_and_say(digits, repeat=40)))"
   ]
  },
  {
   "cell_type": "code",
   "execution_count": 4,
   "id": "75a3b61f",
   "metadata": {},
   "outputs": [
    {
     "name": "stdout",
     "output_type": "stream",
     "text": [
      "Part 2:\n",
      "3579328\n"
     ]
    }
   ],
   "source": [
    "print(\"Part 2:\")\n",
    "print(len(look_and_say(digits, repeat=50)))"
   ]
  }
 ],
 "metadata": {
  "kernelspec": {
   "display_name": "Python 3",
   "language": "python",
   "name": "python3"
  },
  "language_info": {
   "codemirror_mode": {
    "name": "ipython",
    "version": 3
   },
   "file_extension": ".py",
   "mimetype": "text/x-python",
   "name": "python",
   "nbconvert_exporter": "python",
   "pygments_lexer": "ipython3",
   "version": "3.10.0"
  }
 },
 "nbformat": 4,
 "nbformat_minor": 5
}
