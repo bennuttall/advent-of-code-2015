{
 "cells": [
  {
   "cell_type": "code",
   "execution_count": 21,
   "id": "626d2629",
   "metadata": {},
   "outputs": [],
   "source": [
    "def get_next_cell(pos):\n",
    "    x, y = pos\n",
    "    if y == 1:\n",
    "        if x == 1:\n",
    "            return (1, 2)\n",
    "        return (1, x+1)\n",
    "    return (x+1, y-1)"
   ]
  },
  {
   "cell_type": "code",
   "execution_count": 25,
   "id": "6f7faef9",
   "metadata": {},
   "outputs": [],
   "source": [
    "pos = (1, 1)\n",
    "grid = {pos: 1}\n",
    "for i in range(2, 22):\n",
    "    pos = get_next_cell(pos)\n",
    "    grid[pos] = i"
   ]
  },
  {
   "cell_type": "code",
   "execution_count": 32,
   "id": "25f9c9d9",
   "metadata": {},
   "outputs": [
    {
     "name": "stdout",
     "output_type": "stream",
     "text": [
      "20151125 18749137 17289845 30943339 10071777 \n",
      "31916031 21629792 16929656 7726640 \n",
      "16080970 8057251 1601130 \n",
      "24592653 32451966 \n",
      "77061 \n",
      "33071741 \n",
      "\n"
     ]
    }
   ],
   "source": [
    "for y in range(1, 8):\n",
    "    for x in range(1, 8):\n",
    "        if (x, y) in grid:\n",
    "            print(grid[(x, y)], end=' ')\n",
    "    print()"
   ]
  },
  {
   "cell_type": "code",
   "execution_count": 37,
   "id": "8d5b1083",
   "metadata": {},
   "outputs": [],
   "source": [
    "pos = (1, 1)\n",
    "n = 20151125\n",
    "grid = {pos: n}\n",
    "while (3019, 3010) not in grid:\n",
    "    pos = get_next_cell(pos)\n",
    "    n = (n * 252533) % 33554393\n",
    "    grid[pos] = n"
   ]
  },
  {
   "cell_type": "code",
   "execution_count": 38,
   "id": "234e3015",
   "metadata": {},
   "outputs": [
    {
     "data": {
      "text/plain": [
       "8997277"
      ]
     },
     "execution_count": 38,
     "metadata": {},
     "output_type": "execute_result"
    }
   ],
   "source": [
    "grid[(3019, 3010)]"
   ]
  },
  {
   "cell_type": "code",
   "execution_count": null,
   "id": "1053f161",
   "metadata": {},
   "outputs": [],
   "source": []
  }
 ],
 "metadata": {
  "kernelspec": {
   "display_name": "Python 3",
   "language": "python",
   "name": "python3"
  },
  "language_info": {
   "codemirror_mode": {
    "name": "ipython",
    "version": 3
   },
   "file_extension": ".py",
   "mimetype": "text/x-python",
   "name": "python",
   "nbconvert_exporter": "python",
   "pygments_lexer": "ipython3",
   "version": "3.10.0"
  }
 },
 "nbformat": 4,
 "nbformat_minor": 5
}
