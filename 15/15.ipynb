{
 "cells": [
  {
   "cell_type": "code",
   "execution_count": 1,
   "id": "a3c4c3bb",
   "metadata": {},
   "outputs": [],
   "source": [
    "capacity = []\n",
    "durability = []\n",
    "flavor = []\n",
    "texture = []\n",
    "calories = []\n",
    "\n",
    "with open('input') as f:\n",
    "    for line in f:\n",
    "        parts = line.strip().replace(',', '').split()\n",
    "        capacity.append(int(parts[2]))\n",
    "        durability.append(int(parts[4]))\n",
    "        flavor.append(int(parts[6]))\n",
    "        texture.append(int(parts[8]))\n",
    "        calories.append(int(parts[10]))"
   ]
  },
  {
   "cell_type": "code",
   "execution_count": 2,
   "id": "2327f4ab",
   "metadata": {},
   "outputs": [],
   "source": [
    "def combinations_adding_to_n(n):\n",
    "    for a in range(n + 1):\n",
    "        for b in range(n + 1):\n",
    "            for c in range(n + 1):\n",
    "                for d in range(n + 1):\n",
    "                    if sum([a, b, c, d]) == n:\n",
    "                        yield (a, b, c, d)\n",
    "                    elif sum([a, b, c, d]) > n:\n",
    "                        break\n",
    "                if sum([a, b, c]) > n:\n",
    "                    break\n",
    "            if sum([a, b]) > n:\n",
    "                break"
   ]
  },
  {
   "cell_type": "code",
   "execution_count": 3,
   "id": "c0a86875",
   "metadata": {},
   "outputs": [],
   "source": [
    "def calc_score(c, cals=None):\n",
    "    cap = max(0, sum(a * b for a, b in zip(capacity, c)))\n",
    "    dur = max(0, sum(a * b for a, b in zip(durability, c)))\n",
    "    fla = max(0, sum(a * b for a, b in zip(flavor, c)))\n",
    "    tex = max(0, sum(a * b for a, b in zip(texture, c)))\n",
    "    cal = max(0, sum(a * b for a, b in zip(calories, c)))\n",
    "    score = cap * dur * fla * tex\n",
    "    if cals is not None:\n",
    "        return score if cal == cals else 0\n",
    "    return score"
   ]
  },
  {
   "cell_type": "code",
   "execution_count": 4,
   "id": "fd3b05e2",
   "metadata": {},
   "outputs": [
    {
     "name": "stdout",
     "output_type": "stream",
     "text": [
      "Part 1:\n",
      "21367368\n"
     ]
    }
   ],
   "source": [
    "print(\"Part 1:\")\n",
    "print(max(calc_score(c) for c in combinations_adding_to_n(100)))"
   ]
  },
  {
   "cell_type": "code",
   "execution_count": 5,
   "id": "49efb2cf",
   "metadata": {},
   "outputs": [
    {
     "name": "stdout",
     "output_type": "stream",
     "text": [
      "Part 2:\n",
      "1766400\n"
     ]
    }
   ],
   "source": [
    "print(\"Part 2:\")\n",
    "print(max(calc_score(c, cals=500) for c in combinations_adding_to_n(100)))"
   ]
  }
 ],
 "metadata": {
  "kernelspec": {
   "display_name": "Python 3",
   "language": "python",
   "name": "python3"
  },
  "language_info": {
   "codemirror_mode": {
    "name": "ipython",
    "version": 3
   },
   "file_extension": ".py",
   "mimetype": "text/x-python",
   "name": "python",
   "nbconvert_exporter": "python",
   "pygments_lexer": "ipython3",
   "version": "3.10.0"
  }
 },
 "nbformat": 4,
 "nbformat_minor": 5
}
